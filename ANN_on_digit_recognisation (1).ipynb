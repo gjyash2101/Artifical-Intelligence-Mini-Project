{
  "nbformat": 4,
  "nbformat_minor": 0,
  "metadata": {
    "colab": {
      "name": "ANN on digit recognisation.ipynb",
      "provenance": []
    },
    "kernelspec": {
      "name": "python3",
      "display_name": "Python 3"
    }
  },
  "cells": [
    {
      "cell_type": "markdown",
      "metadata": {
        "id": "GwKkmui7isOs"
      },
      "source": [
        "**Digit Recognization** - AI Mini project\n",
        "\n",
        "> By - **YASH GUPTA**\n",
        "\n",
        "\n",
        "\n",
        "---\n",
        "\n"
      ]
    },
    {
      "cell_type": "markdown",
      "metadata": {
        "id": "uh1eO_DiDFqx"
      },
      "source": [
        "Importing the important libaries"
      ]
    },
    {
      "cell_type": "code",
      "metadata": {
        "id": "YdxTuyb5Cy-O"
      },
      "source": [
        "import numpy as np\n",
        "import pandas as pd\n",
        "import matplotlib.pyplot as plt\n",
        "import seaborn as sns\n",
        "import tensorflow as tf"
      ],
      "execution_count": 1,
      "outputs": []
    },
    {
      "cell_type": "markdown",
      "metadata": {
        "id": "iMznyxbaib23"
      },
      "source": [
        "Loading the MNIST dataset"
      ]
    },
    {
      "cell_type": "code",
      "metadata": {
        "id": "a1fQdgwYDkz3"
      },
      "source": [
        "(X_train,y_train),(X_test,y_test) = tf.keras.datasets.mnist.load_data(path=\"mnist.npz\")"
      ],
      "execution_count": 2,
      "outputs": []
    },
    {
      "cell_type": "markdown",
      "metadata": {
        "id": "nsFA2tu5iqnT"
      },
      "source": [
        "Previewing an example"
      ]
    },
    {
      "cell_type": "code",
      "metadata": {
        "id": "Ptu_Uku0EJAF",
        "outputId": "97f26bff-14f7-4626-cec3-dee7faa24c03",
        "colab": {
          "base_uri": "https://localhost:8080/",
          "height": 283
        }
      },
      "source": [
        "plt.imshow(X_train[0],cmap='gray')"
      ],
      "execution_count": 3,
      "outputs": [
        {
          "output_type": "execute_result",
          "data": {
            "text/plain": [
              "<matplotlib.image.AxesImage at 0x7ff85b9257f0>"
            ]
          },
          "metadata": {
            "tags": []
          },
          "execution_count": 3
        },
        {
          "output_type": "display_data",
          "data": {
            "image/png": "[encoded data removed]",
            "text/plain": [
              "<Figure size 432x288 with 1 Axes>"
            ]
          },
          "metadata": {
            "tags": [],
            "needs_background": "light"
          }
        }
      ]
    },
    {
      "cell_type": "markdown",
      "metadata": {
        "id": "vac_cb2djbq8"
      },
      "source": [
        "This digit is"
      ]
    },
    {
      "cell_type": "code",
      "metadata": {
        "id": "ulkDMDfWENJg",
        "outputId": "2c95aeda-654b-438b-c3e7-1fb3840ff3ae",
        "colab": {
          "base_uri": "https://localhost:8080/"
        }
      },
      "source": [
        "y_train[0]"
      ],
      "execution_count": 4,
      "outputs": [
        {
          "output_type": "execute_result",
          "data": {
            "text/plain": [
              "5"
            ]
          },
          "metadata": {
            "tags": []
          },
          "execution_count": 4
        }
      ]
    },
    {
      "cell_type": "markdown",
      "metadata": {
        "id": "maVmJOM8josT"
      },
      "source": [
        "Checking size of our ndarrays"
      ]
    },
    {
      "cell_type": "code",
      "metadata": {
        "id": "SPPWmK2cEkg6",
        "outputId": "99ed2643-e070-4ff9-df71-f2c0a4be2227",
        "colab": {
          "base_uri": "https://localhost:8080/"
        }
      },
      "source": [
        "print(X_train.shape)\n",
        "print(X_test.shape)\n",
        "print(y_train.shape)\n",
        "print(y_test.shape)"
      ],
      "execution_count": 5,
      "outputs": [
        {
          "output_type": "stream",
          "text": [
            "(60000, 28, 28)\n",
            "(10000, 28, 28)\n",
            "(60000,)\n",
            "(10000,)\n"
          ],
          "name": "stdout"
        }
      ]
    },
    {
      "cell_type": "code",
      "metadata": {
        "id": "7oe4tz9WFF5J",
        "outputId": "ce9b3164-15bd-4f6e-a08a-43c049f0916e",
        "colab": {
          "base_uri": "https://localhost:8080/"
        }
      },
      "source": [
        "np.unique(y_train,return_counts=True)"
      ],
      "execution_count": 6,
      "outputs": [
        {
          "output_type": "execute_result",
          "data": {
            "text/plain": [
              "(array([0, 1, 2, 3, 4, 5, 6, 7, 8, 9], dtype=uint8),\n",
              " array([5923, 6742, 5958, 6131, 5842, 5421, 5918, 6265, 5851, 5949]))"
            ]
          },
          "metadata": {
            "tags": []
          },
          "execution_count": 6
        }
      ]
    },
    {
      "cell_type": "code",
      "metadata": {
        "id": "p2zeWPyFFXzw",
        "outputId": "9c981025-fb9e-4490-fdfa-903b8d7fb156",
        "colab": {
          "base_uri": "https://localhost:8080/"
        }
      },
      "source": [
        "np.unique(y_test,return_counts=True)"
      ],
      "execution_count": 7,
      "outputs": [
        {
          "output_type": "execute_result",
          "data": {
            "text/plain": [
              "(array([0, 1, 2, 3, 4, 5, 6, 7, 8, 9], dtype=uint8),\n",
              " array([ 980, 1135, 1032, 1010,  982,  892,  958, 1028,  974, 1009]))"
            ]
          },
          "metadata": {
            "tags": []
          },
          "execution_count": 7
        }
      ]
    },
    {
      "cell_type": "markdown",
      "metadata": {
        "id": "i5rNmHidj4wE"
      },
      "source": [
        "Normalizing the dataset"
      ]
    },
    {
      "cell_type": "code",
      "metadata": {
        "id": "H2GtO25mFqRG"
      },
      "source": [
        "X_train = X_train/255\n",
        "X_test = X_test/255"
      ],
      "execution_count": 8,
      "outputs": []
    },
    {
      "cell_type": "markdown",
      "metadata": {
        "id": "eSolcGSPj-tG"
      },
      "source": [
        "Number of neuron units for hidden layer"
      ]
    },
    {
      "cell_type": "code",
      "metadata": {
        "id": "oMNKxoU8F0ho",
        "outputId": "f4e5f787-4a4f-47cc-bb52-af732c1dad93",
        "colab": {
          "base_uri": "https://localhost:8080/"
        }
      },
      "source": [
        "(28*28)/2"
      ],
      "execution_count": 9,
      "outputs": [
        {
          "output_type": "execute_result",
          "data": {
            "text/plain": [
              "392.0"
            ]
          },
          "metadata": {
            "tags": []
          },
          "execution_count": 9
        }
      ]
    },
    {
      "cell_type": "markdown",
      "metadata": {
        "id": "CAwT-3ulkGOz"
      },
      "source": [
        "Creating the ANN model"
      ]
    },
    {
      "cell_type": "code",
      "metadata": {
        "id": "T-fu60C5BogZ"
      },
      "source": [
        "model = tf.keras.models.Sequential()\n",
        "model.add(tf.keras.layers.Flatten())\n",
        "model.add(tf.keras.layers.Dense(392,activation='relu'))\n",
        "model.add(tf.keras.layers.Dense(10,activation='softmax'))"
      ],
      "execution_count": 10,
      "outputs": []
    },
    {
      "cell_type": "markdown",
      "metadata": {
        "id": "oZADBU76kJ5U"
      },
      "source": [
        "Compiling the model"
      ]
    },
    {
      "cell_type": "code",
      "metadata": {
        "id": "1oiBANquDLei"
      },
      "source": [
        "model.compile(optimizer='adam',loss='sparse_categorical_crossentropy',metrics=['accuracy'])"
      ],
      "execution_count": 11,
      "outputs": []
    },
    {
      "cell_type": "markdown",
      "metadata": {
        "id": "MD4x7x8ekPyM"
      },
      "source": [
        "Fitting the train set in model"
      ]
    },
    {
      "cell_type": "code",
      "metadata": {
        "id": "G6n-DsDHGINl",
        "outputId": "f4d58666-f919-4e68-a5a6-5e00f9233155",
        "colab": {
          "base_uri": "https://localhost:8080/"
        }
      },
      "source": [
        "model.fit(X_train,y_train,epochs=10)"
      ],
      "execution_count": 12,
      "outputs": [
        {
          "output_type": "stream",
          "text": [
            "Epoch 1/10\n",
            "1875/1875 [==============================] - 6s 3ms/step - loss: 0.2104 - accuracy: 0.9375\n",
            "Epoch 2/10\n",
            "1875/1875 [==============================] - 6s 3ms/step - loss: 0.0832 - accuracy: 0.9748\n",
            "Epoch 3/10\n",
            "1875/1875 [==============================] - 6s 3ms/step - loss: 0.0548 - accuracy: 0.9830\n",
            "Epoch 4/10\n",
            "1875/1875 [==============================] - 6s 3ms/step - loss: 0.0397 - accuracy: 0.9874\n",
            "Epoch 5/10\n",
            "1875/1875 [==============================] - 6s 3ms/step - loss: 0.0292 - accuracy: 0.9908\n",
            "Epoch 6/10\n",
            "1875/1875 [==============================] - 6s 3ms/step - loss: 0.0220 - accuracy: 0.9928\n",
            "Epoch 7/10\n",
            "1875/1875 [==============================] - 6s 3ms/step - loss: 0.0179 - accuracy: 0.9940\n",
            "Epoch 8/10\n",
            "1875/1875 [==============================] - 6s 3ms/step - loss: 0.0147 - accuracy: 0.9949\n",
            "Epoch 9/10\n",
            "1875/1875 [==============================] - 6s 3ms/step - loss: 0.0122 - accuracy: 0.9962\n",
            "Epoch 10/10\n",
            "1875/1875 [==============================] - 6s 3ms/step - loss: 0.0099 - accuracy: 0.9966\n"
          ],
          "name": "stdout"
        },
        {
          "output_type": "execute_result",
          "data": {
            "text/plain": [
              "<tensorflow.python.keras.callbacks.History at 0x7ff854d4a518>"
            ]
          },
          "metadata": {
            "tags": []
          },
          "execution_count": 12
        }
      ]
    },
    {
      "cell_type": "markdown",
      "metadata": {
        "id": "DFRBldDMkZME"
      },
      "source": [
        "Predicting the values for X_test"
      ]
    },
    {
      "cell_type": "code",
      "metadata": {
        "id": "aw-R9JGeGLzr",
        "outputId": "5dc5cadf-6cbe-4d44-ac6c-5384ca69d95b",
        "colab": {
          "base_uri": "https://localhost:8080/"
        }
      },
      "source": [
        "y_pred = np.argmax(model.predict(X_test),axis=-1)\n",
        "y_pred"
      ],
      "execution_count": 13,
      "outputs": [
        {
          "output_type": "execute_result",
          "data": {
            "text/plain": [
              "array([7, 2, 1, ..., 4, 5, 6])"
            ]
          },
          "metadata": {
            "tags": []
          },
          "execution_count": 13
        }
      ]
    },
    {
      "cell_type": "markdown",
      "metadata": {
        "id": "hvxFAUQHke2c"
      },
      "source": [
        "Real test set"
      ]
    },
    {
      "cell_type": "code",
      "metadata": {
        "id": "RqHll2uHGl1l",
        "outputId": "12b3066e-fa2c-4e06-f7c7-23bb7b94e3ab",
        "colab": {
          "base_uri": "https://localhost:8080/"
        }
      },
      "source": [
        "y_test"
      ],
      "execution_count": 14,
      "outputs": [
        {
          "output_type": "execute_result",
          "data": {
            "text/plain": [
              "array([7, 2, 1, ..., 4, 5, 6], dtype=uint8)"
            ]
          },
          "metadata": {
            "tags": []
          },
          "execution_count": 14
        }
      ]
    },
    {
      "cell_type": "markdown",
      "metadata": {
        "id": "I0p9ZfyckhNk"
      },
      "source": [
        "Checking the accuracy of the model"
      ]
    },
    {
      "cell_type": "code",
      "metadata": {
        "id": "O6EUhgU4G6yS",
        "outputId": "fe49accb-3566-45a5-f0e3-5a8f4bbe8471",
        "colab": {
          "base_uri": "https://localhost:8080/"
        }
      },
      "source": [
        "from sklearn.metrics import accuracy_score,confusion_matrix\n",
        "accuracy_score(y_test,y_pred)"
      ],
      "execution_count": 15,
      "outputs": [
        {
          "output_type": "execute_result",
          "data": {
            "text/plain": [
              "0.9818"
            ]
          },
          "metadata": {
            "tags": []
          },
          "execution_count": 15
        }
      ]
    },
    {
      "cell_type": "markdown",
      "metadata": {
        "id": "v-oxpwn_kla7"
      },
      "source": [
        "Confusion matrix of the model"
      ]
    },
    {
      "cell_type": "code",
      "metadata": {
        "id": "Zt7TuVlBG-VX",
        "outputId": "d61383f9-86b5-4682-c1ba-e19c326c0b75",
        "colab": {
          "base_uri": "https://localhost:8080/"
        }
      },
      "source": [
        "confusion_matrix(y_test,y_pred)"
      ],
      "execution_count": 16,
      "outputs": [
        {
          "output_type": "execute_result",
          "data": {
            "text/plain": [
              "array([[ 962,    1,    2,    1,    2,    1,    2,    1,    2,    6],\n",
              "       [   0, 1127,    2,    1,    0,    1,    2,    0,    1,    1],\n",
              "       [   3,    2, 1011,    4,    1,    0,    1,    3,    7,    0],\n",
              "       [   0,    0,    3,  997,    0,    2,    0,    0,    2,    6],\n",
              "       [   0,    0,    3,    0,  969,    0,    4,    1,    0,    5],\n",
              "       [   3,    0,    0,   11,    1,  871,    4,    0,    1,    1],\n",
              "       [   1,    2,    1,    1,    7,    2,  944,    0,    0,    0],\n",
              "       [   0,    4,   10,    4,    1,    0,    0,  996,    4,    9],\n",
              "       [   0,    0,    4,    6,    5,    5,    1,    2,  947,    4],\n",
              "       [   0,    3,    0,    1,    9,    1,    0,    0,    1,  994]])"
            ]
          },
          "metadata": {
            "tags": []
          },
          "execution_count": 16
        }
      ]
    },
    {
      "cell_type": "markdown",
      "metadata": {
        "id": "DhX7CZwEksYs"
      },
      "source": [
        "Saving the model"
      ]
    },
    {
      "cell_type": "code",
      "metadata": {
        "id": "0IRlZldWHBKO"
      },
      "source": [
        "model.save('Digit_recong.h5')"
      ],
      "execution_count": 17,
      "outputs": []
    }
  ]
}